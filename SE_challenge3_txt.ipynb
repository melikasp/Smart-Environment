{
  "nbformat": 4,
  "nbformat_minor": 0,
  "metadata": {
    "colab": {
      "name": "SE_challenge3.txt",
      "provenance": [],
      "collapsed_sections": []
    },
    "kernelspec": {
      "name": "python3",
      "display_name": "Python 3"
    },
    "language_info": {
      "name": "python"
    }
  },
  "cells": [
    {
      "cell_type": "code",
      "metadata": {
        "colab": {
          "base_uri": "https://localhost:8080/"
        },
        "id": "EQ9kNYOANG10",
        "outputId": "831a7459-76dc-4339-9334-77b3206fd201"
      },
      "source": [
        "import os\n",
        "import pandas as pd\n",
        "import numpy as np\n",
        "import warnings\n",
        "import seaborn as sns\n",
        "import matplotlib.pyplot as plt\n",
        " \n",
        "warnings.filterwarnings(\"ignore\")\n",
        " \n",
        "from google.colab import drive  \n",
        "drive.mount('/content/gdrive')"
      ],
      "execution_count": null,
      "outputs": [
        {
          "output_type": "stream",
          "text": [
            "Mounted at /content/gdrive\n"
          ],
          "name": "stdout"
        }
      ]
    },
    {
      "cell_type": "code",
      "metadata": {
        "colab": {
          "base_uri": "https://localhost:8080/"
        },
        "id": "VsJZs7BCEg04",
        "outputId": "11c2f4d2-6be3-4bd5-d667-24755feee5d7"
      },
      "source": [
        "!unzip gdrive/MyDrive/dataset_merged_sorted.zip"
      ],
      "execution_count": null,
      "outputs": [
        {
          "output_type": "stream",
          "text": [
            "Archive:  gdrive/MyDrive/dataset_merged_sorted.zip\n",
            "  inflating: dataset_merged_sorted.csv  \n"
          ],
          "name": "stdout"
        }
      ]
    },
    {
      "cell_type": "code",
      "metadata": {
        "id": "-03GQ5uNEjL9"
      },
      "source": [
        "df=pd.read_csv('dataset_merged_sorted.csv')"
      ],
      "execution_count": null,
      "outputs": []
    },
    {
      "cell_type": "code",
      "metadata": {
        "colab": {
          "base_uri": "https://localhost:8080/",
          "height": 204
        },
        "id": "onN56TPUNXha",
        "outputId": "59190099-2519-41a2-a8f9-c942ab5ef353"
      },
      "source": [
        "# df=pd.read_csv('/content/gdrive/MyDrive/dataset_sample_sorted.csv')\n",
        "df=df.dropna()\n",
        "df=df.drop(columns=['physical_payload','crc_status',\t'frequency','bandwidth',\t'code_rate'\t,\t'snr',\t'size'\t,'mtype',\t'rssi','fport','spreading_factor','fcnt'],axis=1)\n",
        "df.tail()"
      ],
      "execution_count": null,
      "outputs": [
        {
          "output_type": "execute_result",
          "data": {
            "text/html": [
              "<div>\n",
              "<style scoped>\n",
              "    .dataframe tbody tr th:only-of-type {\n",
              "        vertical-align: middle;\n",
              "    }\n",
              "\n",
              "    .dataframe tbody tr th {\n",
              "        vertical-align: top;\n",
              "    }\n",
              "\n",
              "    .dataframe thead th {\n",
              "        text-align: right;\n",
              "    }\n",
              "</style>\n",
              "<table border=\"1\" class=\"dataframe\">\n",
              "  <thead>\n",
              "    <tr style=\"text-align: right;\">\n",
              "      <th></th>\n",
              "      <th>time</th>\n",
              "      <th>device_address</th>\n",
              "      <th>gateway</th>\n",
              "    </tr>\n",
              "  </thead>\n",
              "  <tbody>\n",
              "    <tr>\n",
              "      <th>11262996</th>\n",
              "      <td>2020-09-02T12:28:24.654829Z</td>\n",
              "      <td>260126ef</td>\n",
              "      <td>0000024b0b031c97</td>\n",
              "    </tr>\n",
              "    <tr>\n",
              "      <th>11262997</th>\n",
              "      <td>2020-09-02T12:28:24.869765Z</td>\n",
              "      <td>26012af6</td>\n",
              "      <td>0000024b0b031c97</td>\n",
              "    </tr>\n",
              "    <tr>\n",
              "      <th>11262998</th>\n",
              "      <td>2020-09-02T12:28:36.337618Z</td>\n",
              "      <td>2601282d</td>\n",
              "      <td>0000024b0b031c97</td>\n",
              "    </tr>\n",
              "    <tr>\n",
              "      <th>11262999</th>\n",
              "      <td>2020-09-02T12:28:46.780167Z</td>\n",
              "      <td>26012310</td>\n",
              "      <td>0000024b0b031c97</td>\n",
              "    </tr>\n",
              "    <tr>\n",
              "      <th>11263000</th>\n",
              "      <td>2020-09-02T12:28:48.364055Z</td>\n",
              "      <td>0016bbf0</td>\n",
              "      <td>0000024b0b031c97</td>\n",
              "    </tr>\n",
              "  </tbody>\n",
              "</table>\n",
              "</div>"
            ],
            "text/plain": [
              "                                 time device_address           gateway\n",
              "11262996  2020-09-02T12:28:24.654829Z       260126ef  0000024b0b031c97\n",
              "11262997  2020-09-02T12:28:24.869765Z       26012af6  0000024b0b031c97\n",
              "11262998  2020-09-02T12:28:36.337618Z       2601282d  0000024b0b031c97\n",
              "11262999  2020-09-02T12:28:46.780167Z       26012310  0000024b0b031c97\n",
              "11263000  2020-09-02T12:28:48.364055Z       0016bbf0  0000024b0b031c97"
            ]
          },
          "metadata": {
            "tags": []
          },
          "execution_count": 4
        }
      ]
    },
    {
      "cell_type": "code",
      "metadata": {
        "colab": {
          "base_uri": "https://localhost:8080/"
        },
        "id": "9j-ASwjT0OA8",
        "outputId": "a326a635-81c5-4acd-9049-1c17ff4dbead"
      },
      "source": [
        "len(df)"
      ],
      "execution_count": null,
      "outputs": [
        {
          "output_type": "execute_result",
          "data": {
            "text/plain": [
              "7597638"
            ]
          },
          "metadata": {
            "tags": []
          },
          "execution_count": 5
        }
      ]
    },
    {
      "cell_type": "code",
      "metadata": {
        "colab": {
          "base_uri": "https://localhost:8080/"
        },
        "id": "Qb_MF0WBPs7O",
        "outputId": "1bf228ec-d438-4821-f21e-edddabfa6780"
      },
      "source": [
        "gateway_id=df.gateway.unique()\n",
        "gateway_id"
      ],
      "execution_count": null,
      "outputs": [
        {
          "output_type": "execute_result",
          "data": {
            "text/plain": [
              "array(['00000f0c210721f2', '00000f0c210281c4', '00800000a0001914',\n",
              "       '00000f0c22433141', '00000f0c224331c4', '00800000a0001793',\n",
              "       '0000024b0b031c97', '7276ff002e062804', '00800000a0001794'],\n",
              "      dtype=object)"
            ]
          },
          "metadata": {
            "tags": []
          },
          "execution_count": 6
        }
      ]
    },
    {
      "cell_type": "code",
      "metadata": {
        "colab": {
          "base_uri": "https://localhost:8080/",
          "height": 760
        },
        "id": "6LZ2bpZxPY2h",
        "outputId": "ff3be441-3454-43f4-bf1b-ec77f3517d96"
      },
      "source": [
        "fig, axes = plt.subplots(3,3 , sharex=True, figsize=(20,10))\n",
        "c=0\n",
        "\n",
        "for gname in gateway_id:\n",
        "  z = df.groupby(by=['gateway']).get_group(gname)\n",
        "  dups = z.pivot_table(index = ['device_address'], aggfunc ='size')\n",
        "  axes = axes.flatten()\n",
        "  sns.distplot(dups, hist=False, rug=True,ax=axes[c])\n",
        "  axes[c].set_xlabel('device_address')\n",
        "  axes[c].set_ylabel('Gateway:  '+gname)\n",
        "  leg = axes[c].legend()\n",
        "  del z\n",
        "  \n",
        "  c=c+1"
      ],
      "execution_count": null,
      "outputs": [
        {
          "output_type": "stream",
          "text": [
            "No handles with labels found to put in legend.\n",
            "No handles with labels found to put in legend.\n",
            "No handles with labels found to put in legend.\n",
            "No handles with labels found to put in legend.\n",
            "No handles with labels found to put in legend.\n",
            "No handles with labels found to put in legend.\n",
            "No handles with labels found to put in legend.\n",
            "No handles with labels found to put in legend.\n",
            "No handles with labels found to put in legend.\n"
          ],
          "name": "stderr"
        },
        {
          "output_type": "display_data",
          "data": {
            "image/png": "[encoded data removed]",
            "text/plain": [
              "<Figure size 1440x720 with 9 Axes>"
            ]
          },
          "metadata": {
            "tags": [],
            "needs_background": "light"
          }
        }
      ]
    },
    {
      "cell_type": "code",
      "metadata": {
        "id": "6JIckhm26xL8"
      },
      "source": [
        "df['time'] = df['time'].map(lambda x: x.rstrip('Z').replace('T', ' '))"
      ],
      "execution_count": null,
      "outputs": []
    },
    {
      "cell_type": "code",
      "metadata": {
        "colab": {
          "base_uri": "https://localhost:8080/"
        },
        "id": "ikbodGjf9omv",
        "outputId": "d737916c-cab0-4fb1-ddae-d3f8afb8d0de"
      },
      "source": [
        "df['time']"
      ],
      "execution_count": null,
      "outputs": [
        {
          "output_type": "execute_result",
          "data": {
            "text/plain": [
              "1152471      2019-02-15 11:14:45.92639\n",
              "1152472      2019-02-15 11:14:45.92639\n",
              "1152481     2019-02-15 11:14:47.036526\n",
              "1152482     2019-02-15 11:14:47.036526\n",
              "1152483     2019-02-15 11:14:47.070422\n",
              "                       ...            \n",
              "11262996    2020-09-02 12:28:24.654829\n",
              "11262997    2020-09-02 12:28:24.869765\n",
              "11262998    2020-09-02 12:28:36.337618\n",
              "11262999    2020-09-02 12:28:46.780167\n",
              "11263000    2020-09-02 12:28:48.364055\n",
              "Name: time, Length: 7597638, dtype: object"
            ]
          },
          "metadata": {
            "tags": []
          },
          "execution_count": 12
        }
      ]
    },
    {
      "cell_type": "code",
      "metadata": {
        "id": "KGUNiD9L9_Lq"
      },
      "source": [
        "df['time'] = df['time'].apply(pd.to_datetime)\n",
        "df.set_index('time', inplace=True)"
      ],
      "execution_count": null,
      "outputs": []
    },
    {
      "cell_type": "code",
      "metadata": {
        "colab": {
          "base_uri": "https://localhost:8080/",
          "height": 235
        },
        "id": "PVNcx43m-gd_",
        "outputId": "13a34e6b-2daf-4468-8a3c-6953c53fd8b6"
      },
      "source": [
        "df.sort_index(inplace=True)\n",
        "df.head()"
      ],
      "execution_count": null,
      "outputs": [
        {
          "output_type": "execute_result",
          "data": {
            "text/html": [
              "<div>\n",
              "<style scoped>\n",
              "    .dataframe tbody tr th:only-of-type {\n",
              "        vertical-align: middle;\n",
              "    }\n",
              "\n",
              "    .dataframe tbody tr th {\n",
              "        vertical-align: top;\n",
              "    }\n",
              "\n",
              "    .dataframe thead th {\n",
              "        text-align: right;\n",
              "    }\n",
              "</style>\n",
              "<table border=\"1\" class=\"dataframe\">\n",
              "  <thead>\n",
              "    <tr style=\"text-align: right;\">\n",
              "      <th></th>\n",
              "      <th>device_address</th>\n",
              "      <th>gateway</th>\n",
              "    </tr>\n",
              "    <tr>\n",
              "      <th>time</th>\n",
              "      <th></th>\n",
              "      <th></th>\n",
              "    </tr>\n",
              "  </thead>\n",
              "  <tbody>\n",
              "    <tr>\n",
              "      <th>2019-02-15 11:14:45.926390</th>\n",
              "      <td>00f34e62</td>\n",
              "      <td>00000f0c210721f2</td>\n",
              "    </tr>\n",
              "    <tr>\n",
              "      <th>2019-02-15 11:14:45.926390</th>\n",
              "      <td>00f34e62</td>\n",
              "      <td>00000f0c210721f2</td>\n",
              "    </tr>\n",
              "    <tr>\n",
              "      <th>2019-02-15 11:14:47.036526</th>\n",
              "      <td>014bfe1f</td>\n",
              "      <td>00000f0c210721f2</td>\n",
              "    </tr>\n",
              "    <tr>\n",
              "      <th>2019-02-15 11:14:47.036526</th>\n",
              "      <td>014bfe1f</td>\n",
              "      <td>00000f0c210721f2</td>\n",
              "    </tr>\n",
              "    <tr>\n",
              "      <th>2019-02-15 11:14:47.070422</th>\n",
              "      <td>0065d74a</td>\n",
              "      <td>00000f0c210721f2</td>\n",
              "    </tr>\n",
              "  </tbody>\n",
              "</table>\n",
              "</div>"
            ],
            "text/plain": [
              "                           device_address           gateway\n",
              "time                                                       \n",
              "2019-02-15 11:14:45.926390       00f34e62  00000f0c210721f2\n",
              "2019-02-15 11:14:45.926390       00f34e62  00000f0c210721f2\n",
              "2019-02-15 11:14:47.036526       014bfe1f  00000f0c210721f2\n",
              "2019-02-15 11:14:47.036526       014bfe1f  00000f0c210721f2\n",
              "2019-02-15 11:14:47.070422       0065d74a  00000f0c210721f2"
            ]
          },
          "metadata": {
            "tags": []
          },
          "execution_count": 14
        }
      ]
    },
    {
      "cell_type": "code",
      "metadata": {
        "id": "GiHe234y_Y6M"
      },
      "source": [
        "def interval(df):\n",
        "  x = df.reset_index()\n",
        "  d = (x.groupby(x.device_address.ne(x.device_address.shift()).cumsum()).apply(lambda x:pd.DataFrame({\n",
        "                  'start':[x['time'].min()],\n",
        "                  'end':[x['time'].min()],\n",
        "                  'event':[x['device_address'].iloc[0]],\n",
        "                  'count':[len(x)]})\n",
        "          )\n",
        "    .reset_index(drop=True)\n",
        "    .to_dict('r'))\n",
        "  return(d)"
      ],
      "execution_count": null,
      "outputs": []
    },
    {
      "cell_type": "code",
      "metadata": {
        "id": "YQv5X9pDBuKN"
      },
      "source": [
        "interval_result = {}\n",
        "for gname in gateway_id:\n",
        "  x = df.groupby(by=['gateway']).get_group(gname)\n",
        "  interval_result[gname] = interval(x)\n",
        "interval_result\n"
      ],
      "execution_count": null,
      "outputs": []
    },
    {
      "cell_type": "code",
      "metadata": {
        "id": "NXnTdxMlEpSe"
      },
      "source": [
        ""
      ],
      "execution_count": null,
      "outputs": []
    }
  ]
}