{
  "nbformat": 4,
  "nbformat_minor": 0,
  "metadata": {
    "colab": {
      "name": "SE_challenge2 (1).txt",
      "provenance": [],
      "collapsed_sections": []
    },
    "kernelspec": {
      "name": "python3",
      "display_name": "Python 3"
    },
    "language_info": {
      "name": "python"
    }
  },
  "cells": [
    {
      "cell_type": "code",
      "metadata": {
        "colab": {
          "base_uri": "https://localhost:8080/"
        },
        "id": "MuoEJmPmjgQk",
        "outputId": "156b6599-cbed-4f23-890c-4ae7c73a01c2"
      },
      "source": [
        "import os\n",
        "import pandas as pd\n",
        "import numpy as np\n",
        "import warnings\n",
        " \n",
        "warnings.filterwarnings(\"ignore\")\n",
        " \n",
        "from google.colab import drive  \n",
        "drive.mount('/content/gdrive')"
      ],
      "execution_count": null,
      "outputs": [
        {
          "output_type": "stream",
          "text": [
            "Mounted at /content/gdrive\n"
          ],
          "name": "stdout"
        }
      ]
    },
    {
      "cell_type": "code",
      "metadata": {
        "colab": {
          "base_uri": "https://localhost:8080/"
        },
        "id": "dYMS8vz244-Y",
        "outputId": "8ff239ff-4536-4aac-9029-b5f0c4f0bba8"
      },
      "source": [
        "!unzip gdrive/MyDrive/dataset_merged_sorted.zip"
      ],
      "execution_count": null,
      "outputs": [
        {
          "output_type": "stream",
          "text": [
            "Archive:  gdrive/MyDrive/dataset_merged_sorted.zip\n",
            "  inflating: dataset_merged_sorted.csv  \n"
          ],
          "name": "stdout"
        }
      ]
    },
    {
      "cell_type": "code",
      "metadata": {
        "id": "dDdBXyU1kLWB",
        "colab": {
          "base_uri": "https://localhost:8080/"
        },
        "outputId": "81c64cc8-6d23-4517-c353-e733af1183e0"
      },
      "source": [
        "# df=pd.read_csv('/content/gdrive/MyDrive/dataset_sample_sorted.csv')\n",
        "df=pd.read_csv('dataset_merged_sorted.csv')\n",
        "len(df)"
      ],
      "execution_count": null,
      "outputs": [
        {
          "output_type": "execute_result",
          "data": {
            "text/plain": [
              "11263001"
            ]
          },
          "metadata": {
            "tags": []
          },
          "execution_count": 15
        }
      ]
    },
    {
      "cell_type": "code",
      "metadata": {
        "colab": {
          "base_uri": "https://localhost:8080/",
          "height": 204
        },
        "id": "rVHlXbWikPzM",
        "outputId": "d778e027-7db7-4555-c44e-c815db091dcd"
      },
      "source": [
        "# new_sample=pd.read_csv('/content/gdrive/MyDrive/dataset_sample.csv')\n",
        "df=df.drop(columns=['time',\t'physical_payload',\t\n",
        "                                'crc_status',\t'frequency',\t'bandwidth',\t'code_rate'\t,\t'snr',\t'size'\t,'mtype',\t'rssi','fport','spreading_factor'],axis=1)\n",
        "df.head()"
      ],
      "execution_count": null,
      "outputs": [
        {
          "output_type": "execute_result",
          "data": {
            "text/html": [
              "<div>\n",
              "<style scoped>\n",
              "    .dataframe tbody tr th:only-of-type {\n",
              "        vertical-align: middle;\n",
              "    }\n",
              "\n",
              "    .dataframe tbody tr th {\n",
              "        vertical-align: top;\n",
              "    }\n",
              "\n",
              "    .dataframe thead th {\n",
              "        text-align: right;\n",
              "    }\n",
              "</style>\n",
              "<table border=\"1\" class=\"dataframe\">\n",
              "  <thead>\n",
              "    <tr style=\"text-align: right;\">\n",
              "      <th></th>\n",
              "      <th>device_address</th>\n",
              "      <th>gateway</th>\n",
              "      <th>fcnt</th>\n",
              "    </tr>\n",
              "  </thead>\n",
              "  <tbody>\n",
              "    <tr>\n",
              "      <th>0</th>\n",
              "      <td>-1</td>\n",
              "      <td>00000f0c210281c4</td>\n",
              "      <td>-1</td>\n",
              "    </tr>\n",
              "    <tr>\n",
              "      <th>1</th>\n",
              "      <td>-1</td>\n",
              "      <td>00000f0c210281c4</td>\n",
              "      <td>-1</td>\n",
              "    </tr>\n",
              "    <tr>\n",
              "      <th>2</th>\n",
              "      <td>-1</td>\n",
              "      <td>00000f0c210281c4</td>\n",
              "      <td>-1</td>\n",
              "    </tr>\n",
              "    <tr>\n",
              "      <th>3</th>\n",
              "      <td>-1</td>\n",
              "      <td>00000f0c22433141</td>\n",
              "      <td>-1</td>\n",
              "    </tr>\n",
              "    <tr>\n",
              "      <th>4</th>\n",
              "      <td>-1</td>\n",
              "      <td>00000f0c22433141</td>\n",
              "      <td>-1</td>\n",
              "    </tr>\n",
              "  </tbody>\n",
              "</table>\n",
              "</div>"
            ],
            "text/plain": [
              "  device_address           gateway  fcnt\n",
              "0             -1  00000f0c210281c4    -1\n",
              "1             -1  00000f0c210281c4    -1\n",
              "2             -1  00000f0c210281c4    -1\n",
              "3             -1  00000f0c22433141    -1\n",
              "4             -1  00000f0c22433141    -1"
            ]
          },
          "metadata": {
            "tags": []
          },
          "execution_count": 16
        }
      ]
    },
    {
      "cell_type": "code",
      "metadata": {
        "colab": {
          "base_uri": "https://localhost:8080/"
        },
        "id": "2JPLvfpTlakK",
        "outputId": "ccc4a8e0-3a55-4ee1-cb39-fe801a2d24d7"
      },
      "source": [
        "df=df[(df.values ==-1).sum(axis=1) == 0]\n",
        "df=df.dropna()\n",
        "len(df)"
      ],
      "execution_count": null,
      "outputs": [
        {
          "output_type": "execute_result",
          "data": {
            "text/plain": [
              "8209871"
            ]
          },
          "metadata": {
            "tags": []
          },
          "execution_count": 17
        }
      ]
    },
    {
      "cell_type": "code",
      "metadata": {
        "colab": {
          "base_uri": "https://localhost:8080/",
          "height": 204
        },
        "id": "Xz77NAx66not",
        "outputId": "29dd16d2-2a5b-447e-a849-bb8ec66d66bb"
      },
      "source": [
        "df=df.reset_index(drop=True)\n",
        "df.head()"
      ],
      "execution_count": null,
      "outputs": [
        {
          "output_type": "execute_result",
          "data": {
            "text/html": [
              "<div>\n",
              "<style scoped>\n",
              "    .dataframe tbody tr th:only-of-type {\n",
              "        vertical-align: middle;\n",
              "    }\n",
              "\n",
              "    .dataframe tbody tr th {\n",
              "        vertical-align: top;\n",
              "    }\n",
              "\n",
              "    .dataframe thead th {\n",
              "        text-align: right;\n",
              "    }\n",
              "</style>\n",
              "<table border=\"1\" class=\"dataframe\">\n",
              "  <thead>\n",
              "    <tr style=\"text-align: right;\">\n",
              "      <th></th>\n",
              "      <th>device_address</th>\n",
              "      <th>gateway</th>\n",
              "      <th>fcnt</th>\n",
              "    </tr>\n",
              "  </thead>\n",
              "  <tbody>\n",
              "    <tr>\n",
              "      <th>0</th>\n",
              "      <td>00123d57</td>\n",
              "      <td>00000f0c210721f2</td>\n",
              "      <td>1037</td>\n",
              "    </tr>\n",
              "    <tr>\n",
              "      <th>1</th>\n",
              "      <td>00123d57</td>\n",
              "      <td>00000f0c210721f2</td>\n",
              "      <td>1037</td>\n",
              "    </tr>\n",
              "    <tr>\n",
              "      <th>2</th>\n",
              "      <td>00123d57</td>\n",
              "      <td>00000f0c210281c4</td>\n",
              "      <td>1037</td>\n",
              "    </tr>\n",
              "    <tr>\n",
              "      <th>3</th>\n",
              "      <td>00123d57</td>\n",
              "      <td>00000f0c210281c4</td>\n",
              "      <td>1037</td>\n",
              "    </tr>\n",
              "    <tr>\n",
              "      <th>4</th>\n",
              "      <td>00aaba54</td>\n",
              "      <td>00000f0c210281c4</td>\n",
              "      <td>1648</td>\n",
              "    </tr>\n",
              "  </tbody>\n",
              "</table>\n",
              "</div>"
            ],
            "text/plain": [
              "  device_address           gateway  fcnt\n",
              "0       00123d57  00000f0c210721f2  1037\n",
              "1       00123d57  00000f0c210721f2  1037\n",
              "2       00123d57  00000f0c210281c4  1037\n",
              "3       00123d57  00000f0c210281c4  1037\n",
              "4       00aaba54  00000f0c210281c4  1648"
            ]
          },
          "metadata": {
            "tags": []
          },
          "execution_count": 18
        }
      ]
    },
    {
      "cell_type": "code",
      "metadata": {
        "id": "kpbd_o_x7kZD"
      },
      "source": [
        "gateway_id=df.gateway.unique()\n",
        "add_id=df.device_address.unique()\n"
      ],
      "execution_count": null,
      "outputs": []
    },
    {
      "cell_type": "code",
      "metadata": {
        "id": "0je5IcvNsBlo"
      },
      "source": [
        "def packet_lost(df,g):\n",
        "  lostpacket=0\n",
        "  z=(df.groupby(by=['gateway']).get_group(g))\n",
        "  add_id=z.device_address.unique()\n",
        "  for d in add_id:\n",
        "    w=((z.groupby(by=['device_address']).get_group(d)['fcnt']).sort_values()).reset_index(drop=True)\n",
        "    for i in range(len(w)-1):\n",
        "      if (w[i+1]-w[i]) == 2:\n",
        "          lostpacket = lostpacket+1\n",
        "    del w\n",
        "  return lostpacket , len(z)\n"
      ],
      "execution_count": null,
      "outputs": []
    },
    {
      "cell_type": "code",
      "metadata": {
        "id": "gi9LDyy7A5QB"
      },
      "source": [
        "gateway_id = ['00000f0c22433141','00800000a0001793']"
      ],
      "execution_count": null,
      "outputs": []
    },
    {
      "cell_type": "code",
      "metadata": {
        "colab": {
          "base_uri": "https://localhost:8080/"
        },
        "id": "ZTIU2COgAk6W",
        "outputId": "4c99cabb-69da-4f10-c8a3-fd339a535b15"
      },
      "source": [
        "lost_1,len_1=packet_lost(df,gateway_id[0])\n",
        "ratio1=lost_1/len_1\n",
        "print( 'ratio of lost packets for gateway 00000f0c22433141 is: ' , str(ratio1 * 100) + '%' )\n"
      ],
      "execution_count": null,
      "outputs": [
        {
          "output_type": "stream",
          "text": [
            "ratio of lost packets for gateway 00000f0c22433141 is:  7.355167619341882%\n"
          ],
          "name": "stdout"
        }
      ]
    },
    {
      "cell_type": "code",
      "metadata": {
        "id": "9JWDgFu1PWJt"
      },
      "source": [
        "lost_2,len_2=packet_lost(df,gateway_id[1])\n",
        "ratio1=lost_2/len_2\n",
        "print( 'ratio of lost packets for gateway 00800000a0001793 is: ' , str(ratio2 * 100) + '%' )"
      ],
      "execution_count": null,
      "outputs": []
    },
    {
      "cell_type": "code",
      "metadata": {
        "colab": {
          "base_uri": "https://localhost:8080/"
        },
        "id": "uNJvLxDAk2Xy",
        "outputId": "93de3e17-beb2-403c-fdcb-5184fdee97d7"
      },
      "source": [
        "c=0\n",
        "for i in gateway_id:\n",
        "   c=c+ packet_lost(df,i)\n",
        "c"
      ],
      "execution_count": null,
      "outputs": [
        {
          "output_type": "execute_result",
          "data": {
            "text/plain": [
              "2175"
            ]
          },
          "metadata": {
            "tags": []
          },
          "execution_count": 10
        }
      ]
    },
    {
      "cell_type": "code",
      "metadata": {
        "id": "MqTbJDOY-6P2"
      },
      "source": [
        "def packets_lost(df,g):\n",
        "  c=0\n",
        "  z=(df.groupby(by=['gateway']).get_group(g))\n",
        "  add_id=z.device_address.unique()\n",
        "  for d in add_id:\n",
        "    lostpacket=0\n",
        "    w=z.groupby(by=['device_address']).get_group(d).fcnt.sort_values().reset_index(drop=True)\n",
        "    lostpacket=[lostpacket+1 for i in range(len(w)-1) if w[i+1]-w[i] == 2]\n",
        "    c=c+sum(lostpacket)\n",
        "  return(c)"
      ],
      "execution_count": null,
      "outputs": []
    },
    {
      "cell_type": "code",
      "metadata": {
        "id": "3_wa8KAwOCi-",
        "colab": {
          "base_uri": "https://localhost:8080/"
        },
        "outputId": "abc15199-5b82-4be3-bc08-46ca6668b50d"
      },
      "source": [
        "c=0\n",
        "for i in gateway_id:\n",
        "   c=c+ packets_lost(df,i)\n",
        "c"
      ],
      "execution_count": null,
      "outputs": [
        {
          "output_type": "execute_result",
          "data": {
            "text/plain": [
              "2175"
            ]
          },
          "metadata": {
            "tags": []
          },
          "execution_count": 12
        }
      ]
    },
    {
      "cell_type": "code",
      "metadata": {
        "id": "0V1HpFdbCcRx"
      },
      "source": [
        "#number of lostpacket\n",
        "# lostpacket"
      ],
      "execution_count": null,
      "outputs": []
    },
    {
      "cell_type": "code",
      "metadata": {
        "colab": {
          "base_uri": "https://localhost:8080/"
        },
        "id": "YQJp1tU-MlHw",
        "outputId": "8cc7b6af-2a3a-4b3c-bfbd-e2f54c383f1e"
      },
      "source": [
        "#ratio of lostpacket\n",
        " \n",
        "ratio = c/len(df)\n",
        "print( 'ratio of lost packets is: ' , str(ratio * 100) + '%' )"
      ],
      "execution_count": null,
      "outputs": [
        {
          "output_type": "stream",
          "text": [
            "ratio of lost packets is:  10.945599114287152%\n"
          ],
          "name": "stdout"
        }
      ]
    },
    {
      "cell_type": "code",
      "metadata": {
        "id": "GY8altdp9wwD"
      },
      "source": [
        ""
      ],
      "execution_count": null,
      "outputs": []
    }
  ]
}